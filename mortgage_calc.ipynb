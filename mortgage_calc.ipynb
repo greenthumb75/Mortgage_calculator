{
 "cells": [
  {
   "cell_type": "markdown",
   "metadata": {},
   "source": [
    "Brad Simkins"
   ]
  },
  {
   "cell_type": "markdown",
   "metadata": {},
   "source": [
    "Mortgage calculator that takes as input the principal loan amount, interest rate, and monthly payment. As output, it generates an amortization table, and computes how many years and months it takes to pay off the mortgage, and report the total amount of payments over that time.\n",
    "\n",
    "The program then calculates the number of months using a while loop to run through the paying down of the loan by testing whether the monthly payment is greater than or equal to the balance each iteration.  This would be better done in a function so that it would not need to be written a second time in the for loop.  The while loop tests for monthly payments that are too low and kills the loop accordingly.\n"
   ]
  },
  {
   "cell_type": "code",
   "execution_count": 3,
   "metadata": {
    "collapsed": false
   },
   "outputs": [
    {
     "name": "stdout",
     "output_type": "stream",
     "text": [
      "My Mortgage Calculator\n",
      "\n",
      "Please enter the principal loan amount: 200000\n",
      "Please enter the interest rate: 5\n",
      "Please enter the monthly payment: 1200\n",
      "\n",
      "Month     Payment     Interest     Balance    \n",
      "1         1200.0       833.33         199633.33\n",
      "2         1200.0       831.81         199265.14\n",
      "3         1200.0       830.27         198895.41\n",
      "4         1200.0       828.73         198524.14\n",
      "5         1200.0       827.18         198151.33\n",
      "6         1200.0       825.63         197776.96\n",
      "7         1200.0       824.07         197401.03\n",
      "8         1200.0       822.5         197023.53\n",
      "9         1200.0       820.93         196644.46\n",
      "10         1200.0       819.35         196263.81\n",
      "11         1200.0       817.77         195881.58\n",
      "12         1200.0       816.17         195497.75\n",
      "24         1200.0      796.54         190765.16\n",
      "36         1200.0      775.89         185790.44\n",
      "48         1200.0      754.2         180561.21\n",
      "60         1200.0      731.39         175064.44\n",
      "72         1200.0      707.41         169286.44\n",
      "84         1200.0      682.21         163212.83\n",
      "96         1200.0      655.72         156828.48\n",
      "108         1200.0      627.87         150117.49\n",
      "120         1200.0      598.6         143063.16\n",
      "132         1200.0      567.83         135647.92\n",
      "144         1200.0      535.49         127853.3\n",
      "156         1200.0      501.49         119659.89\n",
      "168         1200.0      465.76         111047.29\n",
      "180         1200.0      428.19         101994.05\n",
      "192         1200.0      388.7         92477.64\n",
      "204         1200.0      347.2         82474.34\n",
      "216         1200.0      303.57         71959.26\n",
      "228         1200.0      257.7         60906.2\n",
      "240         1200.0      209.49         49287.65\n",
      "252         1200.0      158.82         37074.68\n",
      "264         1200.0      105.55         24236.86\n",
      "276         1200.0      49.55         10742.24\n",
      "286         170.09       0.71         0.0\n",
      "\n",
      "Total time to pay off mortgage: 23 years and 10 months\n",
      "Total amount paid: 342170.09\n"
     ]
    }
   ],
   "source": [
    "print(\"My Mortgage Calculator\\n\")\n",
    "prncpl = float(input(\"Please enter the principal loan amount: \"))\n",
    "int_rt = float(input(\"Please enter the interest rate: \"))\n",
    "m_pymt = float(input(\"Please enter the monthly payment: \"))\n",
    "\n",
    "int_owed = 0           #initialize month's interest owed\n",
    "balance = prncpl       #initialize running balance\n",
    "balance_test = balance #initialize balance to test for inadequate monthly payment\n",
    "total_paid = 0      #initialize total amount paid\n",
    "total_mths = 1         #initialize total months\n",
    "killit = 0             #condition to break loop\n",
    "\n",
    "#loop to count number of payments\n",
    "while balance >= m_pymt:\n",
    "    if int_rt > 1:\n",
    "        int_rt = int_rt/100 #if interest entered as percentage instead of decimal      \n",
    "    int_owed = balance * (int_rt/12)\n",
    "    balance = balance + int_owed - m_pymt\n",
    "    if balance_test <= balance:\n",
    "        killit = 1\n",
    "        break      \n",
    "    total_paid = total_paid + m_pymt\n",
    "    total_mths += 1\n",
    " \n",
    "if killit == 0:\n",
    "    balance = prncpl  #reset running balance = to principle\n",
    "    print(\"\\nMonth     \" + \"Payment     \" + \"Interest     \" + \"Balance    \")\n",
    "\n",
    "    #loop through payments and print each month's interest and new balance\n",
    "    for month in range(1,total_mths):\n",
    "        int_owed = balance * (int_rt/12)\n",
    "        balance = balance + int_owed - m_pymt\n",
    "        if month <= 12:\n",
    "            print(str(month) + \"         \" + str(m_pymt) + \"       \" + str(round(int_owed,2)) + \"         \" + str(round(balance,2))) #print first 12 months\n",
    "        elif month%12 == 0:\n",
    "            print(str(month) + \"         \" + str(m_pymt) + \"      \" + str(round(int_owed,2)) + \"         \" + str(round(balance,2))) #print first month of fiscal year after the first 12 months\n",
    "\n",
    "    int_owed = balance * (int_rt/12) #calculate interest on final payment\n",
    "    m_pymt = balance                 #final payment is equal to the last 0 > balance < monthly payment\n",
    "    total_paid = total_paid + m_pymt #calc total amount paid\n",
    "    balance = balance - m_pymt       #final balance should = 0 \n",
    "    print(str(month+1) + \"         \" + str(round(m_pymt,2)) + \"       \" + str(round(int_owed,2)) + \"         \" + str(round(balance,2)))  #print final month\n",
    "\n",
    "    print(\"\\nTotal time to pay off mortgage: \" + str((total_mths)//12) + \" years and \" + \n",
    "         str((total_mths)%12) + \" months\")\n",
    "    print(\"Total amount paid: \" + str(round(total_paid,2)))\n",
    "\n",
    "else:\n",
    "    print(\"Inadequate monthly payment to pay off mortgage!!! Please enter a different amount.\")\n"
   ]
  }
 ],
 "metadata": {
  "kernelspec": {
   "display_name": "Python 3",
   "language": "python",
   "name": "python3"
  },
  "language_info": {
   "codemirror_mode": {
    "name": "ipython",
    "version": 3
   },
   "file_extension": ".py",
   "mimetype": "text/x-python",
   "name": "python",
   "nbconvert_exporter": "python",
   "pygments_lexer": "ipython3",
   "version": "3.6.0"
  }
 },
 "nbformat": 4,
 "nbformat_minor": 0
}
